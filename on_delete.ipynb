{
 "cells": [
  {
   "cell_type": "markdown",
   "metadata": {},
   "source": [
    "# Mais aplicações para o on_delete do modelo de Post\n"
   ]
  },
  {
   "cell_type": "markdown",
   "metadata": {},
   "source": [
    "| Opção            | Descrição |\n",
    "|-----------------|-----------|\n",
    "| **CASCADE**     | Quando o objeto referenciado for excluído, os objetos que o referenciam também serão excluídos. |\n",
    "| **PROTECT**     | Impede a exclusão do objeto referenciado se existirem objetos que dependem dele. |\n",
    "| **SET_NULL**    | Define o campo como `NULL` quando o objeto referenciado for excluído (requer `null=True`). |\n",
    "| **SET_DEFAULT** | Define o campo para o valor padrão especificado (`default=...`) quando o objeto referenciado for excluído. |\n",
    "| **SET()**       | Define o campo com um valor específico ou executa uma função personalizada ao excluir o objeto referenciado. |\n",
    "| **DO_NOTHING**  | Não faz nada quando o objeto referenciado é excluído (pode gerar erro de integridade no banco de dados). |\n",
    "\n"
   ]
  }
 ],
 "metadata": {
  "language_info": {
   "name": "python"
  }
 },
 "nbformat": 4,
 "nbformat_minor": 2
}
